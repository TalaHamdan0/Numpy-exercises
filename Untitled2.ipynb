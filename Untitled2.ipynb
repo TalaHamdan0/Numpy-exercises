{
  "metadata": {
    "kernelspec": {
      "name": "python",
      "display_name": "Python (Pyodide)",
      "language": "python"
    },
    "language_info": {
      "codemirror_mode": {
        "name": "python",
        "version": 3
      },
      "file_extension": ".py",
      "mimetype": "text/x-python",
      "name": "python",
      "nbconvert_exporter": "python",
      "pygments_lexer": "ipython3",
      "version": "3.8"
    }
  },
  "nbformat_minor": 5,
  "nbformat": 4,
  "cells": [
    {
      "id": "2e423374-344f-4d3c-be5e-5b6ea3deec13",
      "cell_type": "code",
      "source": "# Tools for Data Science project",
      "metadata": {
        "trusted": true
      },
      "outputs": [],
      "execution_count": null
    },
    {
      "id": "a3f880d6-599f-40e2-b0ac-e6dd95420437",
      "cell_type": "markdown",
      "source": "## 3 introduction\nthis notebook contains basic exercises using markdown and python code for data science tools",
      "metadata": {}
    },
    {
      "id": "211214e8-48d8-4923-bb0e-f4fe629ab39b",
      "cell_type": "code",
      "source": "#4 data science languages\npython\nR\nSQL\nJulia\n",
      "metadata": {
        "trusted": true
      },
      "outputs": [],
      "execution_count": null
    },
    {
      "id": "b0c781ba-eef3-4826-bf83-977b65d8c975",
      "cell_type": "code",
      "source": "#5 data science libraries\npandas\nnumby\nmatplotlib\nscikkit-learn\ntensorflow",
      "metadata": {
        "trusted": true
      },
      "outputs": [],
      "execution_count": null
    },
    {
      "id": "c5749130-405a-4b0b-b3dd-f2f1f4f96dd8",
      "cell_type": "code",
      "source": "## Data Science Tools\n\n| Tool        | Description                     |\n|-------------|---------------------------------|\n| Jupyter     | Interactive notebooks           |\n| RStudio     | IDE for R programming           |\n| VS Code     | Code editor                     |\n| Apache Spark| Big Data processing framework   |\n",
      "metadata": {
        "trusted": true
      },
      "outputs": [],
      "execution_count": null
    },
    {
      "id": "6e9e7c1f-8af1-4cce-bd03-649aeddd455f",
      "cell_type": "code",
      "source": "## Examples of Arithmetic Expressions\n- 2 + 3 = 5  \n- 10 - 4 = 6  \n- 5 * 6 = 30  \n- 20 / 4 = 5  \n",
      "metadata": {
        "trusted": true
      },
      "outputs": [],
      "execution_count": null
    },
    {
      "id": "90b472e5-63b0-4098-93f6-c349c6677d60",
      "cell_type": "code",
      "source": "# Addition of two numbers\na = 5\nb = 7\na + b\n",
      "metadata": {
        "trusted": true
      },
      "outputs": [],
      "execution_count": null
    },
    {
      "id": "41572b56-7338-4711-9206-0136947283e9",
      "cell_type": "code",
      "source": "# Convert minutes to hours\nminutes = 120\nhours = minutes / 60\nhours\n",
      "metadata": {
        "trusted": true
      },
      "outputs": [],
      "execution_count": null
    },
    {
      "id": "7f58fced-d5e4-4ce1-97da-c582d27698cf",
      "cell_type": "code",
      "source": "## Objectives\n- Learn how to use Markdown in Jupyter\n- Practice basic Python arithmetic\n- Understand common Data Science tools\n",
      "metadata": {
        "trusted": true
      },
      "outputs": [],
      "execution_count": null
    },
    {
      "id": "3328c8f1-0943-48f0-b746-969c7179c13b",
      "cell_type": "code",
      "source": "## Author\nTala Hamdan\n",
      "metadata": {
        "trusted": true
      },
      "outputs": [],
      "execution_count": null
    }
  ]
}